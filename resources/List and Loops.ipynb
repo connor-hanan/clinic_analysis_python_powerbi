{
 "cells": [
  {
   "cell_type": "markdown",
   "id": "af3f6f8c",
   "metadata": {},
   "source": [
    "# Create List and Loops"
   ]
  },
  {
   "cell_type": "code",
   "execution_count": 3,
   "id": "5aa470f2",
   "metadata": {},
   "outputs": [],
   "source": [
    "my_list =[1,3,4,5,6]\n"
   ]
  },
  {
   "cell_type": "code",
   "execution_count": 6,
   "id": "aacab6ee",
   "metadata": {},
   "outputs": [
    {
     "data": {
      "text/plain": [
       "[1, 3, 4, 5, 6]"
      ]
     },
     "execution_count": 6,
     "metadata": {},
     "output_type": "execute_result"
    }
   ],
   "source": [
    "my_list"
   ]
  },
  {
   "cell_type": "code",
   "execution_count": 9,
   "id": "0800f238",
   "metadata": {},
   "outputs": [
    {
     "name": "stdout",
     "output_type": "stream",
     "text": [
      "6\n",
      "8\n",
      "9\n",
      "10\n",
      "11\n"
     ]
    }
   ],
   "source": [
    "# your first for loop\n",
    "for i in my_list:\n",
    "    print(i+5)\n"
   ]
  },
  {
   "cell_type": "code",
   "execution_count": 11,
   "id": "bf8b05c3",
   "metadata": {},
   "outputs": [],
   "source": [
    "new_list=[]\n",
    "for x in my_list:\n",
    "    x = x+5\n",
    "    new_list.append(x)"
   ]
  },
  {
   "cell_type": "code",
   "execution_count": 12,
   "id": "a2aff8ce",
   "metadata": {},
   "outputs": [
    {
     "data": {
      "text/plain": [
       "[6, 8, 9, 10, 11]"
      ]
     },
     "execution_count": 12,
     "metadata": {},
     "output_type": "execute_result"
    }
   ],
   "source": [
    "new_list"
   ]
  },
  {
   "cell_type": "code",
   "execution_count": 13,
   "id": "058f7c5e",
   "metadata": {},
   "outputs": [],
   "source": [
    "company = ['Microsoft','IBM','Tesla','Meta']"
   ]
  },
  {
   "cell_type": "code",
   "execution_count": 14,
   "id": "cd033d07",
   "metadata": {},
   "outputs": [
    {
     "name": "stdout",
     "output_type": "stream",
     "text": [
      "Tesla\n",
      "Meta\n"
     ]
    }
   ],
   "source": [
    "for i in company:\n",
    "    if \"a\" in i:\n",
    "        print(i)"
   ]
  },
  {
   "cell_type": "code",
   "execution_count": 15,
   "id": "910a88f4",
   "metadata": {},
   "outputs": [],
   "source": [
    "#list comprehension "
   ]
  },
  {
   "cell_type": "code",
   "execution_count": 16,
   "id": "5c8e7528",
   "metadata": {},
   "outputs": [],
   "source": [
    "my_list2 = [1,2,3,4,5]\n",
    "new_list_2 = [x+1 for x in my_list2]"
   ]
  },
  {
   "cell_type": "code",
   "execution_count": 17,
   "id": "3d26cca8",
   "metadata": {},
   "outputs": [
    {
     "data": {
      "text/plain": [
       "[2, 3, 4, 5, 6]"
      ]
     },
     "execution_count": 17,
     "metadata": {},
     "output_type": "execute_result"
    }
   ],
   "source": [
    "new_list_2"
   ]
  },
  {
   "cell_type": "code",
   "execution_count": 20,
   "id": "45ebd495",
   "metadata": {},
   "outputs": [],
   "source": [
    "a_company = [i for i in company if \"a\" in i]"
   ]
  },
  {
   "cell_type": "code",
   "execution_count": 21,
   "id": "9632b4fa",
   "metadata": {},
   "outputs": [
    {
     "data": {
      "text/plain": [
       "['Tesla', 'Meta']"
      ]
     },
     "execution_count": 21,
     "metadata": {},
     "output_type": "execute_result"
    }
   ],
   "source": [
    "a_company"
   ]
  },
  {
   "cell_type": "code",
   "execution_count": 22,
   "id": "e20f6345",
   "metadata": {},
   "outputs": [
    {
     "name": "stdout",
     "output_type": "stream",
     "text": [
      "MICROSOFT\n",
      "IBM\n",
      "TESLA\n",
      "META\n"
     ]
    }
   ],
   "source": [
    "company = ['Microsoft','IBM','Tesla','Meta']\n",
    "for i in company:\n",
    "    print(i.upper())"
   ]
  },
  {
   "cell_type": "code",
   "execution_count": null,
   "id": "663b7f7e",
   "metadata": {},
   "outputs": [],
   "source": []
  },
  {
   "cell_type": "code",
   "execution_count": null,
   "id": "b33d4568",
   "metadata": {},
   "outputs": [],
   "source": []
  },
  {
   "cell_type": "code",
   "execution_count": null,
   "id": "a731c579",
   "metadata": {},
   "outputs": [],
   "source": []
  }
 ],
 "metadata": {
  "kernelspec": {
   "display_name": "Python 3",
   "language": "python",
   "name": "python3"
  },
  "language_info": {
   "codemirror_mode": {
    "name": "ipython",
    "version": 3
   },
   "file_extension": ".py",
   "mimetype": "text/x-python",
   "name": "python",
   "nbconvert_exporter": "python",
   "pygments_lexer": "ipython3",
   "version": "3.8.8"
  }
 },
 "nbformat": 4,
 "nbformat_minor": 5
}
