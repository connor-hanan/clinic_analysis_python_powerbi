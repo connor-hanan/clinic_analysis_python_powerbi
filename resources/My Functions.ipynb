{
 "cells": [
  {
   "cell_type": "code",
   "execution_count": 1,
   "id": "b5780a29",
   "metadata": {},
   "outputs": [
    {
     "name": "stdout",
     "output_type": "stream",
     "text": [
      "Hello\n",
      "Bob\n"
     ]
    }
   ],
   "source": [
    "#create my first function\n",
    "\n",
    "def function1():\n",
    "    print(\"Hello\")\n",
    "    print(\"Bob\")\n",
    "#calling the function\n",
    "function1()"
   ]
  },
  {
   "cell_type": "code",
   "execution_count": 8,
   "id": "fd7e3962",
   "metadata": {},
   "outputs": [
    {
     "name": "stdout",
     "output_type": "stream",
     "text": [
      "Hello Bob\n"
     ]
    }
   ],
   "source": [
    "# my second function with arguments\n",
    "def greeting(x):\n",
    "    print(x)\n",
    "greeting(\"Hello Bob\")\n",
    "    "
   ]
  },
  {
   "cell_type": "code",
   "execution_count": 9,
   "id": "a36a4961",
   "metadata": {},
   "outputs": [
    {
     "data": {
      "text/plain": [
       "' Hello Bob  Hello Bob '"
      ]
     },
     "execution_count": 9,
     "metadata": {},
     "output_type": "execute_result"
    }
   ],
   "source": [
    "# my second function with arguments\n",
    "def greeting(x):\n",
    "    return(x)*2\n",
    "greeting(\" Hello Bob \")"
   ]
  },
  {
   "cell_type": "code",
   "execution_count": 10,
   "id": "994a0cb8",
   "metadata": {},
   "outputs": [
    {
     "data": {
      "text/plain": [
       "6"
      ]
     },
     "execution_count": 10,
     "metadata": {},
     "output_type": "execute_result"
    }
   ],
   "source": [
    "def formula1(x,y):\n",
    "    return x*2+y+1\n",
    "formula1(2,1)"
   ]
  },
  {
   "cell_type": "code",
   "execution_count": 15,
   "id": "a8fb314b",
   "metadata": {},
   "outputs": [],
   "source": [
    "#conditional function \n",
    "\n",
    "name1 =\"Bob\"\n",
    "salary1 =5000\n",
    "side1 = 200\n",
    "expenses1=  1000\n",
    "\n",
    "name2 =\"Jill\"\n",
    "salary2 =7000\n",
    "side2 = 1000\n",
    "expenses2=  1500\n",
    "\n",
    "name3 =\"John\"\n",
    "salary3 =2000\n",
    "side3 = 1500\n",
    "expenses3=  800\n",
    "\n"
   ]
  },
  {
   "cell_type": "code",
   "execution_count": 19,
   "id": "173e97e0",
   "metadata": {},
   "outputs": [],
   "source": [
    "def is_approved(name, salary, side, expenses):\n",
    "    yearly_total = salary*12+side*12-expenses*12\n",
    "    if yearly_total>35000:\n",
    "        return name + \", you are approved.\"\n",
    "    else:\n",
    "        return name + \", you are not approved.\"\n",
    "   "
   ]
  },
  {
   "cell_type": "code",
   "execution_count": 20,
   "id": "a82acbb9",
   "metadata": {},
   "outputs": [],
   "source": [
    "result1 = is_approved(name1,salary1,side1,expenses1)\n",
    "result2 = is_approved(name2,salary2,side2,expenses2)\n",
    "result3 = is_approved(name3,salary3,side3,expenses3)\n"
   ]
  },
  {
   "cell_type": "code",
   "execution_count": 21,
   "id": "f17dc37e",
   "metadata": {},
   "outputs": [
    {
     "name": "stdout",
     "output_type": "stream",
     "text": [
      "Bob, you are approved.\n",
      "Jill, you are approved.\n",
      "John, you are not approved.\n"
     ]
    }
   ],
   "source": [
    "print(result1)\n",
    "print(result2)\n",
    "print(result3)"
   ]
  },
  {
   "cell_type": "code",
   "execution_count": null,
   "id": "be68919f",
   "metadata": {},
   "outputs": [],
   "source": []
  }
 ],
 "metadata": {
  "kernelspec": {
   "display_name": "Python 3",
   "language": "python",
   "name": "python3"
  },
  "language_info": {
   "codemirror_mode": {
    "name": "ipython",
    "version": 3
   },
   "file_extension": ".py",
   "mimetype": "text/x-python",
   "name": "python",
   "nbconvert_exporter": "python",
   "pygments_lexer": "ipython3",
   "version": "3.8.8"
  }
 },
 "nbformat": 4,
 "nbformat_minor": 5
}
