{
 "cells": [
  {
   "cell_type": "code",
   "execution_count": 1,
   "metadata": {},
   "outputs": [
    {
     "name": "stderr",
     "output_type": "stream",
     "text": [
      "C:\\Users\\connor.hanan\\AppData\\Roaming\\Python\\Python311\\site-packages\\scipy\\__init__.py:169: UserWarning: A NumPy version >=1.18.5 and <1.26.0 is required for this version of SciPy (detected version 1.26.4\n",
      "  warnings.warn(f\"A NumPy version >={np_minversion} and <{np_maxversion}\"\n"
     ]
    }
   ],
   "source": [
    "import pandas as pd\n",
    "import matplotlib as plt \n",
    "import seaborn as sns"
   ]
  },
  {
   "cell_type": "code",
   "execution_count": 2,
   "metadata": {},
   "outputs": [],
   "source": [
    "data = pd.read_csv('https://raw.githubusercontent.com/Gaelim/Clinic_Analysis_Pandas/master/hospital_data.csv')"
   ]
  },
  {
   "cell_type": "code",
   "execution_count": 3,
   "metadata": {},
   "outputs": [
    {
     "data": {
      "text/html": [
       "<div>\n",
       "<style scoped>\n",
       "    .dataframe tbody tr th:only-of-type {\n",
       "        vertical-align: middle;\n",
       "    }\n",
       "\n",
       "    .dataframe tbody tr th {\n",
       "        vertical-align: top;\n",
       "    }\n",
       "\n",
       "    .dataframe thead th {\n",
       "        text-align: right;\n",
       "    }\n",
       "</style>\n",
       "<table border=\"1\" class=\"dataframe\">\n",
       "  <thead>\n",
       "    <tr style=\"text-align: right;\">\n",
       "      <th></th>\n",
       "      <th>Date</th>\n",
       "      <th>Medication Revenue</th>\n",
       "      <th>Lab Cost</th>\n",
       "      <th>Consultation Revenue</th>\n",
       "      <th>Doctor Type</th>\n",
       "      <th>Financial Class</th>\n",
       "      <th>Patient Type</th>\n",
       "      <th>Entry Time</th>\n",
       "      <th>Post-Consultation Time</th>\n",
       "      <th>Completion Time</th>\n",
       "      <th>Doctor</th>\n",
       "      <th>Patient ID</th>\n",
       "    </tr>\n",
       "  </thead>\n",
       "  <tbody>\n",
       "    <tr>\n",
       "      <th>0</th>\n",
       "      <td>11/4/2019 0:00</td>\n",
       "      <td>$1,183.22</td>\n",
       "      <td>$10.00</td>\n",
       "      <td>$20.17</td>\n",
       "      <td>ANCHOR</td>\n",
       "      <td>HMO</td>\n",
       "      <td>OUTPATIENT</td>\n",
       "      <td>8:35:45</td>\n",
       "      <td>9:17:54</td>\n",
       "      <td>9:29:46</td>\n",
       "      <td>DR05350C4</td>\n",
       "      <td>C10001</td>\n",
       "    </tr>\n",
       "    <tr>\n",
       "      <th>1</th>\n",
       "      <td>11/6/2019 0:00</td>\n",
       "      <td>$738.48</td>\n",
       "      <td>$-</td>\n",
       "      <td>$15.00</td>\n",
       "      <td>ANCHOR</td>\n",
       "      <td>INSURANCE</td>\n",
       "      <td>OUTPATIENT</td>\n",
       "      <td>19:19:16</td>\n",
       "      <td>21:02:36</td>\n",
       "      <td>21:24:07</td>\n",
       "      <td>DR09451Z4</td>\n",
       "      <td>C10002</td>\n",
       "    </tr>\n",
       "    <tr>\n",
       "      <th>2</th>\n",
       "      <td>11/2/2019 0:00</td>\n",
       "      <td>$660.00</td>\n",
       "      <td>$-</td>\n",
       "      <td>$21.17</td>\n",
       "      <td>ANCHOR</td>\n",
       "      <td>HMO</td>\n",
       "      <td>OUTPATIENT</td>\n",
       "      <td>10:46:52</td>\n",
       "      <td>11:56:25</td>\n",
       "      <td>12:06:28</td>\n",
       "      <td>DR17400I4</td>\n",
       "      <td>C10003</td>\n",
       "    </tr>\n",
       "    <tr>\n",
       "      <th>3</th>\n",
       "      <td>11/6/2019 0:00</td>\n",
       "      <td>$600.00</td>\n",
       "      <td>$-</td>\n",
       "      <td>$-</td>\n",
       "      <td>ANCHOR</td>\n",
       "      <td>MEDICARE</td>\n",
       "      <td>OUTPATIENT</td>\n",
       "      <td>9:38:34</td>\n",
       "      <td>10:55:50</td>\n",
       "      <td>10:58:02</td>\n",
       "      <td>DR09451Z4</td>\n",
       "      <td>C10004</td>\n",
       "    </tr>\n",
       "    <tr>\n",
       "      <th>4</th>\n",
       "      <td>11/1/2019 0:00</td>\n",
       "      <td>$591.60</td>\n",
       "      <td>$-</td>\n",
       "      <td>$12.00</td>\n",
       "      <td>ANCHOR</td>\n",
       "      <td>INSURANCE</td>\n",
       "      <td>OUTPATIENT</td>\n",
       "      <td>11:16:21</td>\n",
       "      <td>12:06:49</td>\n",
       "      <td>12:06:54</td>\n",
       "      <td>DR15154H4</td>\n",
       "      <td>C10005</td>\n",
       "    </tr>\n",
       "    <tr>\n",
       "      <th>5</th>\n",
       "      <td>11/4/2019 0:00</td>\n",
       "      <td>$586.80</td>\n",
       "      <td>$-</td>\n",
       "      <td>$13.00</td>\n",
       "      <td>LOCUM</td>\n",
       "      <td>INSURANCE</td>\n",
       "      <td>OUTPATIENT</td>\n",
       "      <td>19:22:09</td>\n",
       "      <td>20:14:03</td>\n",
       "      <td>20:15:03</td>\n",
       "      <td>DR64040I4</td>\n",
       "      <td>C10006</td>\n",
       "    </tr>\n",
       "    <tr>\n",
       "      <th>6</th>\n",
       "      <td>11/13/2019 0:00</td>\n",
       "      <td>$570.18</td>\n",
       "      <td>$92.50</td>\n",
       "      <td>$15.00</td>\n",
       "      <td>ANCHOR</td>\n",
       "      <td>INSURANCE</td>\n",
       "      <td>OUTPATIENT</td>\n",
       "      <td>9:14:45</td>\n",
       "      <td>10:51:01</td>\n",
       "      <td>10:51:33</td>\n",
       "      <td>DR15154H4</td>\n",
       "      <td>C10007</td>\n",
       "    </tr>\n",
       "    <tr>\n",
       "      <th>7</th>\n",
       "      <td>11/2/2019 0:00</td>\n",
       "      <td>$493.85</td>\n",
       "      <td>$-</td>\n",
       "      <td>$30.00</td>\n",
       "      <td>FLOATING</td>\n",
       "      <td>INSURANCE</td>\n",
       "      <td>OUTPATIENT</td>\n",
       "      <td>10:35:00</td>\n",
       "      <td>10:57:26</td>\n",
       "      <td>10:57:36</td>\n",
       "      <td>DR60065B4</td>\n",
       "      <td>C10008</td>\n",
       "    </tr>\n",
       "    <tr>\n",
       "      <th>8</th>\n",
       "      <td>11/4/2019 0:00</td>\n",
       "      <td>$470.39</td>\n",
       "      <td>$-</td>\n",
       "      <td>$35.52</td>\n",
       "      <td>ANCHOR</td>\n",
       "      <td>HMO</td>\n",
       "      <td>OUTPATIENT</td>\n",
       "      <td>8:47:59</td>\n",
       "      <td>9:59:22</td>\n",
       "      <td>9:59:29</td>\n",
       "      <td>DR15154H4</td>\n",
       "      <td>C10009</td>\n",
       "    </tr>\n",
       "    <tr>\n",
       "      <th>9</th>\n",
       "      <td>11/2/2019 0:00</td>\n",
       "      <td>$468.02</td>\n",
       "      <td>$10.00</td>\n",
       "      <td>$23.91</td>\n",
       "      <td>LOCUM</td>\n",
       "      <td>HMO</td>\n",
       "      <td>OUTPATIENT</td>\n",
       "      <td>10:01:25</td>\n",
       "      <td>10:32:38</td>\n",
       "      <td>10:35:17</td>\n",
       "      <td>DR04556Z4</td>\n",
       "      <td>C10010</td>\n",
       "    </tr>\n",
       "  </tbody>\n",
       "</table>\n",
       "</div>"
      ],
      "text/plain": [
       "              Date  Medication Revenue    Lab Cost   Consultation Revenue   \\\n",
       "0   11/4/2019 0:00           $1,183.22      $10.00                 $20.17    \n",
       "1   11/6/2019 0:00             $738.48        $-                   $15.00    \n",
       "2   11/2/2019 0:00             $660.00        $-                   $21.17    \n",
       "3   11/6/2019 0:00             $600.00        $-                     $-      \n",
       "4   11/1/2019 0:00             $591.60        $-                   $12.00    \n",
       "5   11/4/2019 0:00             $586.80        $-                   $13.00    \n",
       "6  11/13/2019 0:00             $570.18      $92.50                 $15.00    \n",
       "7   11/2/2019 0:00             $493.85        $-                   $30.00    \n",
       "8   11/4/2019 0:00             $470.39        $-                   $35.52    \n",
       "9   11/2/2019 0:00             $468.02      $10.00                 $23.91    \n",
       "\n",
       "  Doctor Type Financial Class Patient Type Entry Time Post-Consultation Time  \\\n",
       "0      ANCHOR             HMO   OUTPATIENT    8:35:45                9:17:54   \n",
       "1      ANCHOR       INSURANCE   OUTPATIENT   19:19:16               21:02:36   \n",
       "2      ANCHOR             HMO   OUTPATIENT   10:46:52               11:56:25   \n",
       "3      ANCHOR        MEDICARE   OUTPATIENT    9:38:34               10:55:50   \n",
       "4      ANCHOR       INSURANCE   OUTPATIENT   11:16:21               12:06:49   \n",
       "5       LOCUM       INSURANCE   OUTPATIENT   19:22:09               20:14:03   \n",
       "6      ANCHOR       INSURANCE   OUTPATIENT    9:14:45               10:51:01   \n",
       "7    FLOATING       INSURANCE   OUTPATIENT   10:35:00               10:57:26   \n",
       "8      ANCHOR             HMO   OUTPATIENT    8:47:59                9:59:22   \n",
       "9       LOCUM             HMO   OUTPATIENT   10:01:25               10:32:38   \n",
       "\n",
       "  Completion Time     Doctor Patient ID  \n",
       "0         9:29:46  DR05350C4     C10001  \n",
       "1        21:24:07  DR09451Z4     C10002  \n",
       "2        12:06:28  DR17400I4     C10003  \n",
       "3        10:58:02  DR09451Z4     C10004  \n",
       "4        12:06:54  DR15154H4     C10005  \n",
       "5        20:15:03  DR64040I4     C10006  \n",
       "6        10:51:33  DR15154H4     C10007  \n",
       "7        10:57:36  DR60065B4     C10008  \n",
       "8         9:59:29  DR15154H4     C10009  \n",
       "9        10:35:17  DR04556Z4     C10010  "
      ]
     },
     "execution_count": 3,
     "metadata": {},
     "output_type": "execute_result"
    }
   ],
   "source": [
    "data.head(10)"
   ]
  },
  {
   "cell_type": "code",
   "execution_count": 4,
   "metadata": {},
   "outputs": [
    {
     "name": "stdout",
     "output_type": "stream",
     "text": [
      "<class 'pandas.core.frame.DataFrame'>\n",
      "RangeIndex: 29999 entries, 0 to 29998\n",
      "Data columns (total 12 columns):\n",
      " #   Column                  Non-Null Count  Dtype \n",
      "---  ------                  --------------  ----- \n",
      " 0   Date                    29999 non-null  object\n",
      " 1    Medication Revenue     29999 non-null  object\n",
      " 2     Lab Cost              29999 non-null  object\n",
      " 3    Consultation Revenue   29999 non-null  object\n",
      " 4   Doctor Type             29999 non-null  object\n",
      " 5   Financial Class         29999 non-null  object\n",
      " 6   Patient Type            29999 non-null  object\n",
      " 7   Entry Time              29999 non-null  object\n",
      " 8   Post-Consultation Time  29999 non-null  object\n",
      " 9   Completion Time         29999 non-null  object\n",
      " 10  Doctor                  29999 non-null  object\n",
      " 11  Patient ID              29999 non-null  object\n",
      "dtypes: object(12)\n",
      "memory usage: 2.7+ MB\n"
     ]
    }
   ],
   "source": [
    "data.info()"
   ]
  },
  {
   "cell_type": "markdown",
   "metadata": {},
   "source": [
    "- Whitespace in column headers"
   ]
  },
  {
   "cell_type": "code",
   "execution_count": 5,
   "metadata": {},
   "outputs": [
    {
     "name": "stdout",
     "output_type": "stream",
     "text": [
      "<class 'pandas.core.frame.DataFrame'>\n",
      "RangeIndex: 29999 entries, 0 to 29998\n",
      "Data columns (total 12 columns):\n",
      " #   Column                  Non-Null Count  Dtype \n",
      "---  ------                  --------------  ----- \n",
      " 0   Date                    29999 non-null  object\n",
      " 1   Medication Revenue      29999 non-null  object\n",
      " 2   Lab Cost                29999 non-null  object\n",
      " 3   Consultation Revenue    29999 non-null  object\n",
      " 4   Doctor Type             29999 non-null  object\n",
      " 5   Financial Class         29999 non-null  object\n",
      " 6   Patient Type            29999 non-null  object\n",
      " 7   Entry Time              29999 non-null  object\n",
      " 8   Post-Consultation Time  29999 non-null  object\n",
      " 9   Completion Time         29999 non-null  object\n",
      " 10  Doctor                  29999 non-null  object\n",
      " 11  Patient ID              29999 non-null  object\n",
      "dtypes: object(12)\n",
      "memory usage: 2.7+ MB\n"
     ]
    }
   ],
   "source": [
    "data.columns = data.columns.str.strip()\n",
    "data.info()"
   ]
  },
  {
   "cell_type": "markdown",
   "metadata": {},
   "source": [
    "# Transform / Clean Data"
   ]
  },
  {
   "cell_type": "code",
   "execution_count": 6,
   "metadata": {},
   "outputs": [],
   "source": [
    "def clean_values(value):\n",
    "    value = value.replace('$', '')\n",
    "    value = value.replace('-', '')\n",
    "    value = value.replace(',', '')\n",
    "    value = value.replace(' ', '')\n",
    "    value = pd.to_numeric(value)\n",
    "    return value"
   ]
  },
  {
   "cell_type": "code",
   "execution_count": 7,
   "metadata": {},
   "outputs": [],
   "source": [
    "data['Medication Revenue'] = data['Medication Revenue'].apply(clean_values)\n",
    "data['Lab Cost'] = data['Lab Cost'].apply(clean_values)\n",
    "data['Consultation Revenue'] = data['Consultation Revenue'].apply(clean_values)"
   ]
  },
  {
   "cell_type": "code",
   "execution_count": 8,
   "metadata": {},
   "outputs": [],
   "source": [
    "# Creating date columns and changed 'Date' from a string to a date dtype\n",
    "data['Date'] = pd.to_datetime(data['Date'])\n",
    "data ['Day of Week'] = data['Date'].dt.day_of_week\n",
    "data ['Weekday Name'] = data['Date'].dt.strftime('%A')"
   ]
  },
  {
   "cell_type": "code",
   "execution_count": 9,
   "metadata": {},
   "outputs": [],
   "source": [
    "# Creating function to get hours\n",
    "def get_hour(hour):\n",
    "    hour = pd.to_datetime(hour)\n",
    "    hour = hour.hour\n",
    "    return hour"
   ]
  },
  {
   "cell_type": "code",
   "execution_count": 10,
   "metadata": {},
   "outputs": [],
   "source": [
    "# creat hour columns\n",
    "data['Entry Hour'] = data['Entry Time'].apply(get_hour)\n",
    "data['Post-Consultation Hour'] = data['Post-Consultation Time'].apply(get_hour)\n",
    "data['Completion Hour'] = data['Completion Time'].apply(get_hour)"
   ]
  },
  {
   "cell_type": "code",
   "execution_count": 11,
   "metadata": {},
   "outputs": [
    {
     "data": {
      "text/html": [
       "<div>\n",
       "<style scoped>\n",
       "    .dataframe tbody tr th:only-of-type {\n",
       "        vertical-align: middle;\n",
       "    }\n",
       "\n",
       "    .dataframe tbody tr th {\n",
       "        vertical-align: top;\n",
       "    }\n",
       "\n",
       "    .dataframe thead th {\n",
       "        text-align: right;\n",
       "    }\n",
       "</style>\n",
       "<table border=\"1\" class=\"dataframe\">\n",
       "  <thead>\n",
       "    <tr style=\"text-align: right;\">\n",
       "      <th></th>\n",
       "      <th>Date</th>\n",
       "      <th>Medication Revenue</th>\n",
       "      <th>Lab Cost</th>\n",
       "      <th>Consultation Revenue</th>\n",
       "      <th>Doctor Type</th>\n",
       "      <th>Financial Class</th>\n",
       "      <th>Patient Type</th>\n",
       "      <th>Entry Time</th>\n",
       "      <th>Post-Consultation Time</th>\n",
       "      <th>Completion Time</th>\n",
       "      <th>Doctor</th>\n",
       "      <th>Patient ID</th>\n",
       "      <th>Day of Week</th>\n",
       "      <th>Weekday Name</th>\n",
       "      <th>Entry Hour</th>\n",
       "      <th>Post-Consultation Hour</th>\n",
       "      <th>Completion Hour</th>\n",
       "    </tr>\n",
       "  </thead>\n",
       "  <tbody>\n",
       "    <tr>\n",
       "      <th>0</th>\n",
       "      <td>2019-11-04</td>\n",
       "      <td>1183.22</td>\n",
       "      <td>10.0</td>\n",
       "      <td>20.17</td>\n",
       "      <td>ANCHOR</td>\n",
       "      <td>HMO</td>\n",
       "      <td>OUTPATIENT</td>\n",
       "      <td>8:35:45</td>\n",
       "      <td>9:17:54</td>\n",
       "      <td>9:29:46</td>\n",
       "      <td>DR05350C4</td>\n",
       "      <td>C10001</td>\n",
       "      <td>0</td>\n",
       "      <td>Monday</td>\n",
       "      <td>8</td>\n",
       "      <td>9</td>\n",
       "      <td>9</td>\n",
       "    </tr>\n",
       "    <tr>\n",
       "      <th>1</th>\n",
       "      <td>2019-11-06</td>\n",
       "      <td>738.48</td>\n",
       "      <td>NaN</td>\n",
       "      <td>15.00</td>\n",
       "      <td>ANCHOR</td>\n",
       "      <td>INSURANCE</td>\n",
       "      <td>OUTPATIENT</td>\n",
       "      <td>19:19:16</td>\n",
       "      <td>21:02:36</td>\n",
       "      <td>21:24:07</td>\n",
       "      <td>DR09451Z4</td>\n",
       "      <td>C10002</td>\n",
       "      <td>2</td>\n",
       "      <td>Wednesday</td>\n",
       "      <td>19</td>\n",
       "      <td>21</td>\n",
       "      <td>21</td>\n",
       "    </tr>\n",
       "    <tr>\n",
       "      <th>2</th>\n",
       "      <td>2019-11-02</td>\n",
       "      <td>660.00</td>\n",
       "      <td>NaN</td>\n",
       "      <td>21.17</td>\n",
       "      <td>ANCHOR</td>\n",
       "      <td>HMO</td>\n",
       "      <td>OUTPATIENT</td>\n",
       "      <td>10:46:52</td>\n",
       "      <td>11:56:25</td>\n",
       "      <td>12:06:28</td>\n",
       "      <td>DR17400I4</td>\n",
       "      <td>C10003</td>\n",
       "      <td>5</td>\n",
       "      <td>Saturday</td>\n",
       "      <td>10</td>\n",
       "      <td>11</td>\n",
       "      <td>12</td>\n",
       "    </tr>\n",
       "    <tr>\n",
       "      <th>3</th>\n",
       "      <td>2019-11-06</td>\n",
       "      <td>600.00</td>\n",
       "      <td>NaN</td>\n",
       "      <td>NaN</td>\n",
       "      <td>ANCHOR</td>\n",
       "      <td>MEDICARE</td>\n",
       "      <td>OUTPATIENT</td>\n",
       "      <td>9:38:34</td>\n",
       "      <td>10:55:50</td>\n",
       "      <td>10:58:02</td>\n",
       "      <td>DR09451Z4</td>\n",
       "      <td>C10004</td>\n",
       "      <td>2</td>\n",
       "      <td>Wednesday</td>\n",
       "      <td>9</td>\n",
       "      <td>10</td>\n",
       "      <td>10</td>\n",
       "    </tr>\n",
       "    <tr>\n",
       "      <th>4</th>\n",
       "      <td>2019-11-01</td>\n",
       "      <td>591.60</td>\n",
       "      <td>NaN</td>\n",
       "      <td>12.00</td>\n",
       "      <td>ANCHOR</td>\n",
       "      <td>INSURANCE</td>\n",
       "      <td>OUTPATIENT</td>\n",
       "      <td>11:16:21</td>\n",
       "      <td>12:06:49</td>\n",
       "      <td>12:06:54</td>\n",
       "      <td>DR15154H4</td>\n",
       "      <td>C10005</td>\n",
       "      <td>4</td>\n",
       "      <td>Friday</td>\n",
       "      <td>11</td>\n",
       "      <td>12</td>\n",
       "      <td>12</td>\n",
       "    </tr>\n",
       "    <tr>\n",
       "      <th>5</th>\n",
       "      <td>2019-11-04</td>\n",
       "      <td>586.80</td>\n",
       "      <td>NaN</td>\n",
       "      <td>13.00</td>\n",
       "      <td>LOCUM</td>\n",
       "      <td>INSURANCE</td>\n",
       "      <td>OUTPATIENT</td>\n",
       "      <td>19:22:09</td>\n",
       "      <td>20:14:03</td>\n",
       "      <td>20:15:03</td>\n",
       "      <td>DR64040I4</td>\n",
       "      <td>C10006</td>\n",
       "      <td>0</td>\n",
       "      <td>Monday</td>\n",
       "      <td>19</td>\n",
       "      <td>20</td>\n",
       "      <td>20</td>\n",
       "    </tr>\n",
       "    <tr>\n",
       "      <th>6</th>\n",
       "      <td>2019-11-13</td>\n",
       "      <td>570.18</td>\n",
       "      <td>92.5</td>\n",
       "      <td>15.00</td>\n",
       "      <td>ANCHOR</td>\n",
       "      <td>INSURANCE</td>\n",
       "      <td>OUTPATIENT</td>\n",
       "      <td>9:14:45</td>\n",
       "      <td>10:51:01</td>\n",
       "      <td>10:51:33</td>\n",
       "      <td>DR15154H4</td>\n",
       "      <td>C10007</td>\n",
       "      <td>2</td>\n",
       "      <td>Wednesday</td>\n",
       "      <td>9</td>\n",
       "      <td>10</td>\n",
       "      <td>10</td>\n",
       "    </tr>\n",
       "    <tr>\n",
       "      <th>7</th>\n",
       "      <td>2019-11-02</td>\n",
       "      <td>493.85</td>\n",
       "      <td>NaN</td>\n",
       "      <td>30.00</td>\n",
       "      <td>FLOATING</td>\n",
       "      <td>INSURANCE</td>\n",
       "      <td>OUTPATIENT</td>\n",
       "      <td>10:35:00</td>\n",
       "      <td>10:57:26</td>\n",
       "      <td>10:57:36</td>\n",
       "      <td>DR60065B4</td>\n",
       "      <td>C10008</td>\n",
       "      <td>5</td>\n",
       "      <td>Saturday</td>\n",
       "      <td>10</td>\n",
       "      <td>10</td>\n",
       "      <td>10</td>\n",
       "    </tr>\n",
       "    <tr>\n",
       "      <th>8</th>\n",
       "      <td>2019-11-04</td>\n",
       "      <td>470.39</td>\n",
       "      <td>NaN</td>\n",
       "      <td>35.52</td>\n",
       "      <td>ANCHOR</td>\n",
       "      <td>HMO</td>\n",
       "      <td>OUTPATIENT</td>\n",
       "      <td>8:47:59</td>\n",
       "      <td>9:59:22</td>\n",
       "      <td>9:59:29</td>\n",
       "      <td>DR15154H4</td>\n",
       "      <td>C10009</td>\n",
       "      <td>0</td>\n",
       "      <td>Monday</td>\n",
       "      <td>8</td>\n",
       "      <td>9</td>\n",
       "      <td>9</td>\n",
       "    </tr>\n",
       "    <tr>\n",
       "      <th>9</th>\n",
       "      <td>2019-11-02</td>\n",
       "      <td>468.02</td>\n",
       "      <td>10.0</td>\n",
       "      <td>23.91</td>\n",
       "      <td>LOCUM</td>\n",
       "      <td>HMO</td>\n",
       "      <td>OUTPATIENT</td>\n",
       "      <td>10:01:25</td>\n",
       "      <td>10:32:38</td>\n",
       "      <td>10:35:17</td>\n",
       "      <td>DR04556Z4</td>\n",
       "      <td>C10010</td>\n",
       "      <td>5</td>\n",
       "      <td>Saturday</td>\n",
       "      <td>10</td>\n",
       "      <td>10</td>\n",
       "      <td>10</td>\n",
       "    </tr>\n",
       "  </tbody>\n",
       "</table>\n",
       "</div>"
      ],
      "text/plain": [
       "        Date  Medication Revenue  Lab Cost  Consultation Revenue Doctor Type  \\\n",
       "0 2019-11-04             1183.22      10.0                 20.17      ANCHOR   \n",
       "1 2019-11-06              738.48       NaN                 15.00      ANCHOR   \n",
       "2 2019-11-02              660.00       NaN                 21.17      ANCHOR   \n",
       "3 2019-11-06              600.00       NaN                   NaN      ANCHOR   \n",
       "4 2019-11-01              591.60       NaN                 12.00      ANCHOR   \n",
       "5 2019-11-04              586.80       NaN                 13.00       LOCUM   \n",
       "6 2019-11-13              570.18      92.5                 15.00      ANCHOR   \n",
       "7 2019-11-02              493.85       NaN                 30.00    FLOATING   \n",
       "8 2019-11-04              470.39       NaN                 35.52      ANCHOR   \n",
       "9 2019-11-02              468.02      10.0                 23.91       LOCUM   \n",
       "\n",
       "  Financial Class Patient Type Entry Time Post-Consultation Time  \\\n",
       "0             HMO   OUTPATIENT    8:35:45                9:17:54   \n",
       "1       INSURANCE   OUTPATIENT   19:19:16               21:02:36   \n",
       "2             HMO   OUTPATIENT   10:46:52               11:56:25   \n",
       "3        MEDICARE   OUTPATIENT    9:38:34               10:55:50   \n",
       "4       INSURANCE   OUTPATIENT   11:16:21               12:06:49   \n",
       "5       INSURANCE   OUTPATIENT   19:22:09               20:14:03   \n",
       "6       INSURANCE   OUTPATIENT    9:14:45               10:51:01   \n",
       "7       INSURANCE   OUTPATIENT   10:35:00               10:57:26   \n",
       "8             HMO   OUTPATIENT    8:47:59                9:59:22   \n",
       "9             HMO   OUTPATIENT   10:01:25               10:32:38   \n",
       "\n",
       "  Completion Time     Doctor Patient ID  Day of Week Weekday Name  Entry Hour  \\\n",
       "0         9:29:46  DR05350C4     C10001            0       Monday           8   \n",
       "1        21:24:07  DR09451Z4     C10002            2    Wednesday          19   \n",
       "2        12:06:28  DR17400I4     C10003            5     Saturday          10   \n",
       "3        10:58:02  DR09451Z4     C10004            2    Wednesday           9   \n",
       "4        12:06:54  DR15154H4     C10005            4       Friday          11   \n",
       "5        20:15:03  DR64040I4     C10006            0       Monday          19   \n",
       "6        10:51:33  DR15154H4     C10007            2    Wednesday           9   \n",
       "7        10:57:36  DR60065B4     C10008            5     Saturday          10   \n",
       "8         9:59:29  DR15154H4     C10009            0       Monday           8   \n",
       "9        10:35:17  DR04556Z4     C10010            5     Saturday          10   \n",
       "\n",
       "   Post-Consultation Hour  Completion Hour  \n",
       "0                       9                9  \n",
       "1                      21               21  \n",
       "2                      11               12  \n",
       "3                      10               10  \n",
       "4                      12               12  \n",
       "5                      20               20  \n",
       "6                      10               10  \n",
       "7                      10               10  \n",
       "8                       9                9  \n",
       "9                      10               10  "
      ]
     },
     "execution_count": 11,
     "metadata": {},
     "output_type": "execute_result"
    }
   ],
   "source": [
    "data.head(10)"
   ]
  },
  {
   "cell_type": "markdown",
   "metadata": {},
   "source": [
    "# Data Exploration\n",
    "Now I want to create a new variable, df, for manipulation and analysis"
   ]
  },
  {
   "cell_type": "code",
   "execution_count": 13,
   "metadata": {},
   "outputs": [],
   "source": [
    "# In order to calc total revenue, I need to deal with the null values\n",
    "df = data.fillna(0)\n",
    "df['Total Revenue'] = df['Medication Revenue'] + df['Lab Cost'] + df['Consultation Revenue']"
   ]
  },
  {
   "cell_type": "code",
   "execution_count": 14,
   "metadata": {},
   "outputs": [
    {
     "data": {
      "text/html": [
       "<div>\n",
       "<style scoped>\n",
       "    .dataframe tbody tr th:only-of-type {\n",
       "        vertical-align: middle;\n",
       "    }\n",
       "\n",
       "    .dataframe tbody tr th {\n",
       "        vertical-align: top;\n",
       "    }\n",
       "\n",
       "    .dataframe thead th {\n",
       "        text-align: right;\n",
       "    }\n",
       "</style>\n",
       "<table border=\"1\" class=\"dataframe\">\n",
       "  <thead>\n",
       "    <tr style=\"text-align: right;\">\n",
       "      <th></th>\n",
       "      <th>Date</th>\n",
       "      <th>Medication Revenue</th>\n",
       "      <th>Lab Cost</th>\n",
       "      <th>Consultation Revenue</th>\n",
       "      <th>Doctor Type</th>\n",
       "      <th>Financial Class</th>\n",
       "      <th>Patient Type</th>\n",
       "      <th>Entry Time</th>\n",
       "      <th>Post-Consultation Time</th>\n",
       "      <th>Completion Time</th>\n",
       "      <th>Doctor</th>\n",
       "      <th>Patient ID</th>\n",
       "      <th>Day of Week</th>\n",
       "      <th>Weekday Name</th>\n",
       "      <th>Entry Hour</th>\n",
       "      <th>Post-Consultation Hour</th>\n",
       "      <th>Completion Hour</th>\n",
       "      <th>Total Revenue</th>\n",
       "    </tr>\n",
       "  </thead>\n",
       "  <tbody>\n",
       "    <tr>\n",
       "      <th>0</th>\n",
       "      <td>2019-11-04</td>\n",
       "      <td>1183.22</td>\n",
       "      <td>10.0</td>\n",
       "      <td>20.17</td>\n",
       "      <td>ANCHOR</td>\n",
       "      <td>HMO</td>\n",
       "      <td>OUTPATIENT</td>\n",
       "      <td>8:35:45</td>\n",
       "      <td>9:17:54</td>\n",
       "      <td>9:29:46</td>\n",
       "      <td>DR05350C4</td>\n",
       "      <td>C10001</td>\n",
       "      <td>0</td>\n",
       "      <td>Monday</td>\n",
       "      <td>8</td>\n",
       "      <td>9</td>\n",
       "      <td>9</td>\n",
       "      <td>1213.39</td>\n",
       "    </tr>\n",
       "    <tr>\n",
       "      <th>1</th>\n",
       "      <td>2019-11-06</td>\n",
       "      <td>738.48</td>\n",
       "      <td>0.0</td>\n",
       "      <td>15.00</td>\n",
       "      <td>ANCHOR</td>\n",
       "      <td>INSURANCE</td>\n",
       "      <td>OUTPATIENT</td>\n",
       "      <td>19:19:16</td>\n",
       "      <td>21:02:36</td>\n",
       "      <td>21:24:07</td>\n",
       "      <td>DR09451Z4</td>\n",
       "      <td>C10002</td>\n",
       "      <td>2</td>\n",
       "      <td>Wednesday</td>\n",
       "      <td>19</td>\n",
       "      <td>21</td>\n",
       "      <td>21</td>\n",
       "      <td>753.48</td>\n",
       "    </tr>\n",
       "    <tr>\n",
       "      <th>2</th>\n",
       "      <td>2019-11-02</td>\n",
       "      <td>660.00</td>\n",
       "      <td>0.0</td>\n",
       "      <td>21.17</td>\n",
       "      <td>ANCHOR</td>\n",
       "      <td>HMO</td>\n",
       "      <td>OUTPATIENT</td>\n",
       "      <td>10:46:52</td>\n",
       "      <td>11:56:25</td>\n",
       "      <td>12:06:28</td>\n",
       "      <td>DR17400I4</td>\n",
       "      <td>C10003</td>\n",
       "      <td>5</td>\n",
       "      <td>Saturday</td>\n",
       "      <td>10</td>\n",
       "      <td>11</td>\n",
       "      <td>12</td>\n",
       "      <td>681.17</td>\n",
       "    </tr>\n",
       "    <tr>\n",
       "      <th>3</th>\n",
       "      <td>2019-11-06</td>\n",
       "      <td>600.00</td>\n",
       "      <td>0.0</td>\n",
       "      <td>0.00</td>\n",
       "      <td>ANCHOR</td>\n",
       "      <td>MEDICARE</td>\n",
       "      <td>OUTPATIENT</td>\n",
       "      <td>9:38:34</td>\n",
       "      <td>10:55:50</td>\n",
       "      <td>10:58:02</td>\n",
       "      <td>DR09451Z4</td>\n",
       "      <td>C10004</td>\n",
       "      <td>2</td>\n",
       "      <td>Wednesday</td>\n",
       "      <td>9</td>\n",
       "      <td>10</td>\n",
       "      <td>10</td>\n",
       "      <td>600.00</td>\n",
       "    </tr>\n",
       "    <tr>\n",
       "      <th>4</th>\n",
       "      <td>2019-11-01</td>\n",
       "      <td>591.60</td>\n",
       "      <td>0.0</td>\n",
       "      <td>12.00</td>\n",
       "      <td>ANCHOR</td>\n",
       "      <td>INSURANCE</td>\n",
       "      <td>OUTPATIENT</td>\n",
       "      <td>11:16:21</td>\n",
       "      <td>12:06:49</td>\n",
       "      <td>12:06:54</td>\n",
       "      <td>DR15154H4</td>\n",
       "      <td>C10005</td>\n",
       "      <td>4</td>\n",
       "      <td>Friday</td>\n",
       "      <td>11</td>\n",
       "      <td>12</td>\n",
       "      <td>12</td>\n",
       "      <td>603.60</td>\n",
       "    </tr>\n",
       "  </tbody>\n",
       "</table>\n",
       "</div>"
      ],
      "text/plain": [
       "        Date  Medication Revenue  Lab Cost  Consultation Revenue Doctor Type  \\\n",
       "0 2019-11-04             1183.22      10.0                 20.17      ANCHOR   \n",
       "1 2019-11-06              738.48       0.0                 15.00      ANCHOR   \n",
       "2 2019-11-02              660.00       0.0                 21.17      ANCHOR   \n",
       "3 2019-11-06              600.00       0.0                  0.00      ANCHOR   \n",
       "4 2019-11-01              591.60       0.0                 12.00      ANCHOR   \n",
       "\n",
       "  Financial Class Patient Type Entry Time Post-Consultation Time  \\\n",
       "0             HMO   OUTPATIENT    8:35:45                9:17:54   \n",
       "1       INSURANCE   OUTPATIENT   19:19:16               21:02:36   \n",
       "2             HMO   OUTPATIENT   10:46:52               11:56:25   \n",
       "3        MEDICARE   OUTPATIENT    9:38:34               10:55:50   \n",
       "4       INSURANCE   OUTPATIENT   11:16:21               12:06:49   \n",
       "\n",
       "  Completion Time     Doctor Patient ID  Day of Week Weekday Name  Entry Hour  \\\n",
       "0         9:29:46  DR05350C4     C10001            0       Monday           8   \n",
       "1        21:24:07  DR09451Z4     C10002            2    Wednesday          19   \n",
       "2        12:06:28  DR17400I4     C10003            5     Saturday          10   \n",
       "3        10:58:02  DR09451Z4     C10004            2    Wednesday           9   \n",
       "4        12:06:54  DR15154H4     C10005            4       Friday          11   \n",
       "\n",
       "   Post-Consultation Hour  Completion Hour  Total Revenue  \n",
       "0                       9                9        1213.39  \n",
       "1                      21               21         753.48  \n",
       "2                      11               12         681.17  \n",
       "3                      10               10         600.00  \n",
       "4                      12               12         603.60  "
      ]
     },
     "execution_count": 14,
     "metadata": {},
     "output_type": "execute_result"
    }
   ],
   "source": [
    "df.head()"
   ]
  },
  {
   "cell_type": "code",
   "execution_count": 23,
   "metadata": {},
   "outputs": [
    {
     "name": "stdout",
     "output_type": "stream",
     "text": [
      "Date                         13\n",
      "Medication Revenue         4280\n",
      "Lab Cost                    200\n",
      "Consultation Revenue        241\n",
      "Doctor Type                   3\n",
      "Financial Class               5\n",
      "Patient Type                  1\n",
      "Entry Time                20629\n",
      "Post-Consultation Time    21357\n",
      "Completion Time           21385\n",
      "Doctor                      199\n",
      "Patient ID                29999\n",
      "Day of Week                   7\n",
      "Weekday Name                  7\n",
      "Entry Hour                   17\n",
      "Post-Consultation Hour       17\n",
      "Completion Hour              17\n",
      "Total Revenue              6660\n",
      "dtype: int64\n"
     ]
    }
   ],
   "source": [
    "print(df.nunique())"
   ]
  },
  {
   "cell_type": "code",
   "execution_count": 15,
   "metadata": {},
   "outputs": [
    {
     "data": {
      "text/plain": [
       "Weekday Name\n",
       "Monday       266648.00\n",
       "Tuesday      209864.37\n",
       "Friday       177569.50\n",
       "Wednesday    156197.58\n",
       "Saturday     124407.67\n",
       "Sunday       111779.72\n",
       "Thursday      97480.16\n",
       "Name: Total Revenue, dtype: float64"
      ]
     },
     "execution_count": 15,
     "metadata": {},
     "output_type": "execute_result"
    }
   ],
   "source": [
    "df.groupby('Weekday Name')['Total Revenue'].sum().sort_values(ascending=False)"
   ]
  },
  {
   "cell_type": "code",
   "execution_count": 24,
   "metadata": {},
   "outputs": [
    {
     "data": {
      "text/plain": [
       "Doctor Type\n",
       "ANCHOR      843987.44\n",
       "LOCUM       253791.65\n",
       "FLOATING     46167.91\n",
       "Name: Total Revenue, dtype: float64"
      ]
     },
     "execution_count": 24,
     "metadata": {},
     "output_type": "execute_result"
    }
   ],
   "source": [
    "df.groupby('Doctor Type')['Total Revenue'].sum().sort_values(ascending=False)"
   ]
  },
  {
   "cell_type": "code",
   "execution_count": 25,
   "metadata": {},
   "outputs": [
    {
     "data": {
      "text/plain": [
       "Financial Class\n",
       "INSURANCE    461539.69\n",
       "CORPORATE    255660.08\n",
       "HMO          215925.07\n",
       "PRIVATE      186282.88\n",
       "MEDICARE      24539.28\n",
       "Name: Total Revenue, dtype: float64"
      ]
     },
     "execution_count": 25,
     "metadata": {},
     "output_type": "execute_result"
    }
   ],
   "source": [
    "df.groupby('Financial Class')['Total Revenue'].sum().sort_values(ascending=False)"
   ]
  },
  {
   "cell_type": "markdown",
   "metadata": {},
   "source": [
    "# Visualize Data"
   ]
  },
  {
   "cell_type": "code",
   "execution_count": 16,
   "metadata": {},
   "outputs": [
    {
     "data": {
      "text/plain": [
       "<Axes: xlabel='Weekday Name', ylabel='Total Revenue'>"
      ]
     },
     "execution_count": 16,
     "metadata": {},
     "output_type": "execute_result"
    },
    {
     "data": {
      "image/png": "[encoded data removed]",
      "text/plain": [
       "<Figure size 640x480 with 1 Axes>"
      ]
     },
     "metadata": {},
     "output_type": "display_data"
    }
   ],
   "source": [
    "sns.color_palette('flare', as_cmap=True)\n",
    "sns.boxplot(data=df, x='Weekday Name', y='Total Revenue', showfliers=False)"
   ]
  },
  {
   "cell_type": "code",
   "execution_count": 17,
   "metadata": {},
   "outputs": [
    {
     "data": {
      "text/plain": [
       "<Axes: ylabel='Entry Hour'>"
      ]
     },
     "execution_count": 17,
     "metadata": {},
     "output_type": "execute_result"
    },
    {
     "data": {
      "image/png": "[encoded data removed]",
      "text/plain": [
       "<Figure size 640x480 with 2 Axes>"
      ]
     },
     "metadata": {},
     "output_type": "display_data"
    }
   ],
   "source": [
    "hmap = pd.pivot_table(data=df, index='Entry Hour', columns='Day of Week', values='Total Revenue', aggfunc='sum')\n",
    "hmap.columns = ['Mon', 'Tue', 'Wed', 'Thu', 'Fri', 'Sat', 'Sun']\n",
    "sns.heatmap(hmap)"
   ]
  },
  {
   "cell_type": "code",
   "execution_count": 32,
   "metadata": {},
   "outputs": [
    {
     "name": "stderr",
     "output_type": "stream",
     "text": [
      "c:\\Users\\connor.hanan\\AppData\\Local\\anaconda3\\envs\\clinic_analysis_env\\Lib\\site-packages\\seaborn\\_oldcore.py:1119: FutureWarning: use_inf_as_na option is deprecated and will be removed in a future version. Convert inf values to NaN before operating instead.\n",
      "  with pd.option_context('mode.use_inf_as_na', True):\n",
      "c:\\Users\\connor.hanan\\AppData\\Local\\anaconda3\\envs\\clinic_analysis_env\\Lib\\site-packages\\seaborn\\_oldcore.py:1119: FutureWarning: use_inf_as_na option is deprecated and will be removed in a future version. Convert inf values to NaN before operating instead.\n",
      "  with pd.option_context('mode.use_inf_as_na', True):\n",
      "c:\\Users\\connor.hanan\\AppData\\Local\\anaconda3\\envs\\clinic_analysis_env\\Lib\\site-packages\\seaborn\\_oldcore.py:1119: FutureWarning: use_inf_as_na option is deprecated and will be removed in a future version. Convert inf values to NaN before operating instead.\n",
      "  with pd.option_context('mode.use_inf_as_na', True):\n",
      "c:\\Users\\connor.hanan\\AppData\\Local\\anaconda3\\envs\\clinic_analysis_env\\Lib\\site-packages\\seaborn\\_oldcore.py:1119: FutureWarning: use_inf_as_na option is deprecated and will be removed in a future version. Convert inf values to NaN before operating instead.\n",
      "  with pd.option_context('mode.use_inf_as_na', True):\n"
     ]
    },
    {
     "data": {
      "text/plain": [
       "<seaborn.axisgrid.JointGrid at 0x28aee4ca4d0>"
      ]
     },
     "execution_count": 32,
     "metadata": {},
     "output_type": "execute_result"
    },
    {
     "data": {
      "image/png": "[encoded data removed]",
      "text/plain": [
       "<Figure size 600x600 with 3 Axes>"
      ]
     },
     "metadata": {},
     "output_type": "display_data"
    }
   ],
   "source": [
    "g  = sns.JointGrid(data=df, x='Day of Week', y='Entry Hour', space=0)\n",
    "g.plot_joint(sns.kdeplot,\n",
    "             fill=True, clip=((-1, 7), (7, 23)), #setting the clip as -1 & 7 to give us a little space on the weekdays\n",
    "             thresh=0, levels=10, cmap= 'rocket')\n",
    "g.plot_marginals(sns.histplot, color='#03051A', alpha=1, bins=20)"
   ]
  },
  {
   "cell_type": "code",
   "execution_count": 36,
   "metadata": {},
   "outputs": [
    {
     "data": {
      "text/plain": [
       "<Axes: xlabel='Financial Class'>"
      ]
     },
     "execution_count": 36,
     "metadata": {},
     "output_type": "execute_result"
    },
    {
     "data": {
      "image/png": "[encoded data removed]",
      "text/plain": [
       "<Figure size 640x480 with 2 Axes>"
      ]
     },
     "metadata": {},
     "output_type": "display_data"
    }
   ],
   "source": [
    "hmap2 = pd.pivot_table(data=df, index='Day of Week', columns='Financial Class', values='Total Revenue', aggfunc='sum')\n",
    "hmap2.index = ['Mon', 'Tue', 'Wed', 'Thu', 'Fri', 'Sat', 'Sun']\n",
    "sns.heatmap(hmap2)"
   ]
  },
  {
   "cell_type": "code",
   "execution_count": null,
   "metadata": {},
   "outputs": [],
   "source": []
  }
 ],
 "metadata": {
  "kernelspec": {
   "display_name": "base",
   "language": "python",
   "name": "python3"
  },
  "language_info": {
   "codemirror_mode": {
    "name": "ipython",
    "version": 3
   },
   "file_extension": ".py",
   "mimetype": "text/x-python",
   "name": "python",
   "nbconvert_exporter": "python",
   "pygments_lexer": "ipython3",
   "version": "3.11.8"
  }
 },
 "nbformat": 4,
 "nbformat_minor": 2
}
